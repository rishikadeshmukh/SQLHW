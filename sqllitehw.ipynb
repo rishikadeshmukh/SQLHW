{
  "nbformat": 4,
  "nbformat_minor": 0,
  "metadata": {
    "colab": {
      "provenance": []
    },
    "kernelspec": {
      "name": "python3",
      "display_name": "Python 3"
    },
    "language_info": {
      "name": "python"
    }
  },
  "cells": [
    {
      "cell_type": "code",
      "execution_count": null,
      "metadata": {
        "id": "jnzPNv1zVlos"
      },
      "outputs": [],
      "source": [
        "import sqlite3\n",
        "\n",
        "# Create or connect to an SQLite database\n",
        "connection = sqlite3.connect('student_grades.db')\n",
        "\n",
        "cursor = connection.cursor()\n",
        "\n",
        "cursor.execute('''\n",
        "    CREATE TABLE IF NOT EXISTS students (\n",
        "        student_id INTEGER PRIMARY KEY AUTOINCREMENT,\n",
        "        first_name TEXT,\n",
        "        last_name TEXT\n",
        "    )\n",
        "''')\n",
        "\n",
        "cursor.execute('''\n",
        "    CREATE TABLE IF NOT EXISTS grades (\n",
        "        grade_id INTEGER PRIMARY KEY AUTOINCREMENT,\n",
        "        student_id INTEGER,\n",
        "        subject TEXT,\n",
        "        grade INTEGER,\n",
        "        FOREIGN KEY (student_id) REFERENCES students (student_id)\n",
        "    )\n",
        "''')\n",
        "\n",
        "connection.commit()\n",
        "connection.close()"
      ]
    }
  ]
}